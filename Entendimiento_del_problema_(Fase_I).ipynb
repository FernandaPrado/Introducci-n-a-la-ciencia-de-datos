{
  "nbformat": 4,
  "nbformat_minor": 0,
  "metadata": {
    "colab": {
      "name": "Entendimiento del problema (Fase I).ipynb",
      "provenance": [],
      "collapsed_sections": [],
      "authorship_tag": "ABX9TyMnDaikHV0IUg4omxuoL0tZ",
      "include_colab_link": true
    },
    "kernelspec": {
      "name": "python3",
      "display_name": "Python 3"
    },
    "language_info": {
      "name": "python"
    }
  },
  "cells": [
    {
      "cell_type": "markdown",
      "metadata": {
        "id": "view-in-github",
        "colab_type": "text"
      },
      "source": [
        "<a href=\"https://colab.research.google.com/github/FernandaPrado/Introducci-n-a-la-ciencia-de-datos/blob/main/Entendimiento_del_problema_(Fase_I).ipynb\" target=\"_parent\"><img src=\"https://colab.research.google.com/assets/colab-badge.svg\" alt=\"Open In Colab\"/></a>"
      ]
    },
    {
      "cell_type": "markdown",
      "metadata": {
        "id": "IeaZB-pt2JhZ"
      },
      "source": [
        "# Entendimiento del problema\n",
        "\n",
        "La primera fase de esta metodología está dirigida a converger los objetivos del proyecto de Data mining y las necesidades del negocio. Esto con el objetivo de que el proyecto le represente un valor agregado a la empresa.\n"
      ]
    },
    {
      "cell_type": "markdown",
      "metadata": {
        "id": "UtnCa8s62Pey"
      },
      "source": [
        "El área de mantenimiento es la encargada de mantener el buen funcionamiento y prolongar la vida útil de los bienes, según la asociación española de normalización, el mantenimiento engloba \"las acciones técnicas, administrativas y de gestión durante el ciclo de vida de un elemento, destinado a conservarlo o a devolverlo a un estado en el cual pueda desarrollar la función requerida\" [UNE]. Es un área muy importante, las acciones de mantenimiento no deberian ser vistas como un costo, sino como una inversión que puede asociarse al crecimiento futuro de los ingresos de la empresa [Prasertrungruang].  \n",
        "\n",
        "El director del área es el encargado de establecer la estrategia para  la gestión de mantenimiento. Las estrategias de gestión de mantenimiento se dividen entre tres tipos, estrategias correctivas, preventivas y predictivas.\n",
        "\n",
        "Las estrategias de mantenimiento correctivo son aquellas en las que las acciones se llevan a cabo después de que se presenta la falla. El problema de estas estrategias es que la maquinaria se detiene y los tiempos muertos son largos y costosos. Incluyen el tiempo de agendamiento, el tiempo que se demore el técnico en llegar y reparar la máquina, y en caso de que se necesiten repuestos, es necesario adicionar el tiempo de importación o de envío de las piezas. Por otro lado, debido a que se espera hasta que las fallas sean visibles, en algunos casos, esto implica que estas sean de mayor magnitud siendo la aglomeración de fallas previas tratables.  \n",
        "\n",
        "Las estrategias preventivas son las que se llevan a cabo en periodos de tiempo predeterminados, o después de cierta cantidad de horas de uso de la maquinaria. Las desventajas de estas medidas son las actividades innecesarias que implican gastos evitables.\n",
        " \n",
        "Las estrategias predictivas son en las que se agendan las actividades de mantenimiento a partir de la predicción de las fallas de los equipos, aunque para implementarlas es necesario contar con una gran cantidad de datos y con personal capacitado para el análisis de datos, permite desarrollar herramientas para la optimización de inventarios, de agendamientos y disminuir tiempos muertos, actividades de mantenimiento, costos asociados, alargar la vida útil y mejorar la calidad del servicio.\n",
        "\n",
        "Debido a los desarrollos en la adquisición de datos, las estrategias de gestión de mantenimiento predictivo estan tomando fuerza en el mercado. Para desarrollar este tipo de estrategias es importante considerar la información relevante disponible sobre el mantenimiento. Una fuente de datos relevante y poco usada son los registros de mantenimiento.\n",
        "\n",
        "En las empresas manejan software de mantenimiento, en los que se guardan los registros de las actividades, las partes remplazadas y las remodelaciones de las máquinas. Estos reportes se conservan con el objetivo de conocer los tiempos de parada, analizar los tiempos, intervalos y costos de mantenimiento para mejorar el proceso y las intervenciones relevante [Szucs]. Originalmente los registros eran llenados manualmente por los técnicos, pero ahora se almacenan de manera digital en las hojas de vida de la maquinaria. Estos registros incluyen tanto datos estructurados, como datos no estructurados, donde el técnico registra la descripción de las actividades de mantenimiento. Dado a que esta información es subjetiva al técnico, estos textos varían sustancialmente, puede contener la descripción de la falla, del proceso de reparación, entre otros. En la literatura, se ha demostrado que los campos en los que los técnicos describen los procesos de mantenimiento contiene información relevante, aunque sea difícil su procesamiento [Stenstrom].\n",
        "\n",
        "\n",
        "\n",
        "\n",
        "\n"
      ]
    },
    {
      "cell_type": "markdown",
      "metadata": {
        "id": "UHXt0Pk9UlNQ"
      },
      "source": [
        "La implementación de estrategias de mantenimiento predictivo pueden aplicarse en diferentes tipos de empresas, en particular pueden tener un gran impacto en empresas de renta de maquinaria. \n",
        "\n",
        "En una empresa que se dedica a la venta y renta de maquinaria, el funcionamiento óptimo del área de mantenimiento afecta directamente y en gran medida sus ganancias. La renta de maquinaria amarilla es una línea de negocio en la que se ofrece el servicio de diferentes máquinas como: montacargas, plataformas para trabajo en altura, telehandlers, entre otros, sin necesidad de compra. Se manejan contratos de 3 a 5 años, en los que se fijan pagos mensuales que incluyen mantenimientos, seguros, llantas y repuestos.   \n",
        "\n",
        "La renta de maquinaria es una práctica altamente usada en la industria, esta alternativa ofrece beneficios económicos, financieros, operativos y administrativos. No afecta el nivel de endeudamiento, ni se registra la maquinaria como activo, depreciación o pasivo, brinda un alivio fiscal, administrativo y contable.  Facilita la renovación tecnólogica, ofrece una gran variedad de opciones de maquinaria con cero horas de trabajo, a la cual se le hace seguimiendo en tiempo real y no es necesario procuparse por el personal técnico. Adicionalmente elimina costos inciertos [Mcallister].\n",
        "\n",
        "Este servicio se le presta a diferentes tipos de empresas. Las empresas gastan una gran cantidad de dinero en la adquisición de maquinaria, por ejemplo, se estima que las empresas constructoras pueden llegar a destinar hasta un 36% del presupuesto de la obra [Yeo]. Dado a que se le destina un gran capital a la adquisición también se le destina una cantidad sustancial en su mantenimiento.  Para los clientes de las empresas de renta es imperativo disminuir los gastos relacionados con la maquinaria para aumentar su margen de ganancia, por lo cual, para ser competitivos en el mercado, las empresas de renta deben ofrecer una couta mensual competitiva.\n",
        "\n",
        "Por lo cual una tarea fundamental en las empresas de renta es la estimación de la cuota de mensual que se cobra a los arrendatarios. La cuota mensual abarca los costos base, los cuales corresponden a los gastos conocidos que seguramente tendrán lugar en el plazo establecido del contrato, por ejemplo, mantenimientos preventivos programados y seguros. Adicionalmente se aumentan los costos con relación a las posibles contingencias que se presenten, por ejemplo, mantenimientos correctivos. Estas contingencias se cuantifican por medio de cálculos aproximados y se agregan al presupuesto.  Debido a que los cálculos se basan en conocimiento empírico de la maquinaria, cabe la posibilidad que los desfases entre el valor estimado y los gastos reales, le generen pérdidas económicas u obstáculos para mejorar la competitividad en el mercado de la empresa."
      ]
    },
    {
      "cell_type": "markdown",
      "metadata": {
        "id": "i0DhgOZWkZW_"
      },
      "source": [
        "Para mediar con la incertidumbre que rodea a las contingencias, particularmente las referentes a los mantenimientos correctivos, se pueden aplicar estrategias de mantenimiento predictivo por lo tanto el objetivo es mejorar la manera en que se calcula la cuota mensual.\n",
        "\n",
        "Una alternativa para alcanzar este objetivo es utilizar la información registrada en los sistemas de gestión de mantenimiento. Sin embargo, como se mencionó anteriormente, estos datos son no estructurados, por lo cual el objetivo de este trabajo de minería de datos se propone una estructuración de los datos codificados en los registros del histórico del mantenimiento de la maquinaria. La estructuración de estos datos, permitiría una extracción eficiente de información valiosa de las actividades de mantenimiento. Dado a que la falta de información relevante es uno de los principales problemas para la toma de decisiones en los procesos de mantenimiento [Parida], se considera que este trabajo será de gran interés para la empresa.\n",
        "\n",
        "Dado a que información de la dinámica de mantenimiento se encuentra codificada en las anotaciones de los técnicos de mantenimiento hay que procesarlo por medio de herramientas de procesamiento de lenguaje natural (PLN). \n",
        "\n",
        "El objetivo de PLN es convertir el lenguaje natural a una forma que sea interpretable para un computador, es un método que le permite a los computadores entender el lenguaje humano [Szucs]. Es una herramienta versatil que ha sido aplicada a múltiples áreas del conocimiento, entre las cuales encontramos cuidado de la salud, publicidad, redes sociales, entre otros. Se ha implementado en: Traducciones automáticas, reconocimiento de enfermedades, reconocimiento de discurso, análisis de sentimientos, generación de texto y código, reclutamiento de talento, entre otros.\n",
        "\n",
        "Una rama de PLN es la extracción de información, esta ha sido desarrollada para aislar información de fuentes de texto no estructurado, la mayoría de sus aplicaciones son para idioma inglés. Los avances en el procesamiento de lenguaje taquigráfico se encuentra principalmente en el análisis de registros médicos [Bokinsky].\n",
        "\n",
        "Debido a que hay diferencias estructurales entre el lenguaje natural usado en los registros de mantenimiento y el lenguaje usual para el cual se han desarrollado la mayoría de herramientas de las librerías usuales para PLN, se presentan las siguientes dificultades al intentar de procesar los registros de mantenimiento con las herramientas usuales [Bokinsky]:\n",
        "\n",
        "1. Las palabras importantes suelen estar abreviadas o mal escritas.\n",
        "2. Suelen concatenar palabras.\n",
        "3. Contienen vocabulario especializado propio del área de mantenimiento.\n",
        "4. Abreviación de palabras y uso de acrónimos constantes e inconsistentes.\n",
        "\n"
      ]
    },
    {
      "cell_type": "markdown",
      "metadata": {
        "id": "BzU3J4wPI7-k"
      },
      "source": [
        "# aqui\n"
      ]
    },
    {
      "cell_type": "markdown",
      "metadata": {
        "id": "3kgJ7UXsGc05"
      },
      "source": [
        "En la literatura encontramos diferentes acercamientos para extraer información de los registros de mantenimiento por medio de PLN: en [Stenstrom] se exploró sus utilidades básicas como herramientas para la evaluación del desempeño de los activos, en Hungría [Szucs] analizaron los registros de mantenimiento usando PLN y el algoritmo de *Density-Based Spatial Clustering of Applications with Noise* para el análisis de recurrencia de fallas, adicionalmente usan un modelo de *named entity recongnition* para reconocer la fuente de las falla, usando el registro de mantenimiento de lavadoras, torneadoras, rectificadoras y fresadoras.\n",
        "\n",
        "En el reino unido [Pelham] comparan las herramientas de clasificación: clasificación de expertos, emparejamiento de frases y *Naive bayes phrase matching* para identificar las revisiones de mantenimiento en las que no se encontraron fallas. Con el fin de cuantificar esta medida, puesto que esta implica gastos innecesarios de personal y de recursos. \n",
        "\n",
        "En estados unidos [Akhbardeh] desarrollaron una plataforma cooperativa *open-source MaintNet* para data de manteniendo predictivo. Herramientas (datasets, Banco de términos y listas de abreviaciones) con lenguaje técnico (propio de esta área), estándares para medir el funcionamiento de etiquetado gramatical (proveído por expertos) y *clustering/classification*. Además comparan el funcionamiento de las herramientas de preprocesamiento de *MaintNet* con las herramientas usales de NLP en python y evalúan los métodos de clustering y de clasificación.\n",
        "\n",
        "En [Bokinsky] utilizan herramientas de NLP adecuadas para tratar el lenguaje de mantenimiento para correlacionar textos, el objetivo es emparejar las acciones correctivas del operario y las que se encuentran en los manuales, con el fin de determinar en qué medida el trabajo que realmente se está realizando en una aeronave se alinea con lo que se pide en la documentación de mantenimiento.\n",
        "\n",
        "\n",
        "\n"
      ]
    },
    {
      "cell_type": "markdown",
      "metadata": {
        "id": "OokzmZjYGdGC"
      },
      "source": [
        "A partir del modelo de estructuración de los datos, sería posible construir un modelo descriptivo de las hojas de vida de los equipos para identificar con mayor precisión, las fallas que sufren la maquinaria, la regularidad de éstas y las relaciones de las fallas atípicas con una operación irregular de la maquinaria, para asi calcular con mayor presición la cuota mensual. \n",
        "\n",
        "Adicionalmente sería posible soportar la toma de decisiones con respecto a la contratación del servicio de maquinaria en contextos similares y prestar un servicio personalizado.\n",
        "\n",
        "En trabajos futuros, partiendo de este trabajo y adicionando la información de telemetría que la empresa recoge en tiempo real, sería posible generar un modelo que prediga las futuras fallas de la maquinaria, con el objetivo de optimizar los servicios, soportando las decisiones para mejorar las estrategias de mantenimiento."
      ]
    },
    {
      "cell_type": "code",
      "metadata": {
        "id": "wpbd6roy2Uc4"
      },
      "source": [
        ""
      ],
      "execution_count": null,
      "outputs": []
    }
  ]
}