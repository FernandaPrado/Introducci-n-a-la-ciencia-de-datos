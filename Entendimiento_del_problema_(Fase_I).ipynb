{
  "nbformat": 4,
  "nbformat_minor": 0,
  "metadata": {
    "colab": {
      "name": "Entendimiento del problema (Fase I).ipynb",
      "provenance": [],
      "collapsed_sections": [],
      "authorship_tag": "ABX9TyMVmJ7i/uMZjw3RwwdQhGpd",
      "include_colab_link": true
    },
    "kernelspec": {
      "name": "python3",
      "display_name": "Python 3"
    },
    "language_info": {
      "name": "python"
    }
  },
  "cells": [
    {
      "cell_type": "markdown",
      "metadata": {
        "id": "view-in-github",
        "colab_type": "text"
      },
      "source": [
        "<a href=\"https://colab.research.google.com/github/FernandaPrado/Introducci-n-a-la-ciencia-de-datos/blob/main/Entendimiento_del_problema_(Fase_I).ipynb\" target=\"_parent\"><img src=\"https://colab.research.google.com/assets/colab-badge.svg\" alt=\"Open In Colab\"/></a>"
      ]
    },
    {
      "cell_type": "markdown",
      "metadata": {
        "id": "IeaZB-pt2JhZ"
      },
      "source": [
        "# Entendimiento del problema\n",
        "\n",
        "La primera fase de esta metodología está dirigida a converger los objetivos del proyecto de Data mining y las necesidades del negocio. Esto con el objetivo de que el proyecto le represente un valor agregado a la empresa.\n"
      ]
    },
    {
      "cell_type": "markdown",
      "metadata": {
        "id": "UtnCa8s62Pey"
      },
      "source": [
        "El área de mantenimiento es la encargada de mantener el buen funcionamiento y prolongar la vida útil de los bienes, según la asociación española de normalización, el mantenimiento engloba \"las acciones técnicas, administrativas y de gestión durante el ciclo de vida de un elemento, destinado a conservarlo o a devolverlo a un estado en el cual pueda desarrollar la función requerida\" [UNE]. Es un área muy importante, las acciones de mantenimiento no deberian ser vistas como un costo, sino como una inversión que puede asociarse al crecimiento futuro de los ingresos de la empresa [Prasertrungruang].  \n",
        "\n",
        "El director del área es el encargado de establecer la estrategia para  la gestión de mantenimiento. Las estrategias de gestión de mantenimiento se dividen entre tres tipos, estrategias correctivas, preventivas y predictivas.\n",
        "\n",
        "Las estrategias de mantenimiento correctivo son aquellas en las que las acciones se llevan a cabo después de que se presenta la falla. El problema de estas estrategias es que la maquinaria se detiene y los tiempos muertos son largos y costosos, incluyen el tiempo de agendamiento, el tiempo que se demore el operario en llegar y reparar la máquina, y en caso de que se necesiten repuestos, es necesario adicionar el tiempo de importación o de envío de las piezas. Por otro lado, debido a que se espera hasta que las fallas sean visibles, en algunos casos, esto implica que estas sean de mayor magnitud siendo la aglomeración de fallas previas tratables.  \n",
        "\n",
        "Las estrategias preventivas son las que se llevan a cabo en periodos de tiempo predeterminados, o después de cierta cantidad de horas de uso de la maquinaria. Las desventajas de estas medidas son las actividades (visitas de técnicos y cambios de piezas) innecesarias que implican gastos evitables.\n",
        " \n",
        "Las estrategias predictivas son en las que se agendan las actividades de mantenimiento a partir de la predicción de las fallas de los equipos, aunque para implementarlas es necesario contar con una gran cantidad de datos y con personal capacitado para el análisis de datos, tiene las ventajas de permite desarrollar herramientas para la optimización de inventarios, de agendamientos y disminuir tiempos muertos, actividades de mantenimiento, costos asociados, alargar la vida útil y la calidad del servicio.\n",
        "\n",
        "Debido a los desarrollos en la adquisición de datos, las estrategias de gestión de mantenimiento predictivo estan tomando fuerza en el mercado. Para desarrollar este tipo de estrategias es importante considerar la información relevante disponible sobre el mantenimiento. \n",
        "\n",
        "En las empresas manejan software de mantenimiento, en los que se guardan los registros de las actividades de mantenimiento, las partes remplazadas y las remodelaciones de las maquinas. Estos reportes se conservan con el objetivo de conocer los tiempos de parada, analizar los tiempos, intervalos y costos de mantenimiento para mejorar el proceso y las intervenciones relevante [Szucs]. Originalmente los registros eran llenados manualmente por los operarios, pero ahora se almacenan de manera digital en las hojas de vida de la maquinaria. Estos registros incluyen tanto datos estructurados, como datos no estructurados, donde el operario registra la descripción de las actividades de mantenimiento. Dado a que esta información es subjetiva al operario, la estructura de estos textos varía sustancialmente, puede contener la descripción de la falla, del proceso de reparación, entre otros. \n",
        "\n",
        "En la literatura, se ha demostrado que los campos en los que los operarios describen los procesos de mantenimiento contiene información relevante, aunque sea difícil su procesamiento [Stenstrom].\n",
        "\n",
        "La implementación de estrategias de mantenimiento predictivo pueden aplicarse en diferentes tipos de empresas, en particular pueden tener un gran impacto en empresas de renta de maquinaria. \n",
        "\n",
        "En una empresa que se dedica a la venta y renta de maquinaria, el funcionamiento óptimo del área de mantenimiento afecta directamente y en gran medida sus ganancias. La renta de maquinaria amarilla es una línea de negocio en la que se ofrece el servicio de diferentes máquinas como: montacargas, plataformas para trabajo en altura, telehandlers, entre otros, sin necesidad de compra. Se manejan contratos de 3 a 5 años, en los que se fijan pagos mensuales que incluyen mantenimientos, seguros, llantas y repuestos.   \n",
        "\n",
        "La renta de maquinaria es una práctica altamente usada en la industria, esta alternativa ofrece beneficios económicos, financieros, operativos y administrativos. No afecta el nivel de endeudamiento, ni se registra la maquinaria como activo, depreciación o pasivo, brinda un alivio fiscal, administrativo y contable.  Facilita la renovación tecnólogica, ofrece una gran variedad de opciones de maquinaria con cero horas de trabajo, a la cual se le hace seguimiendo en tiempo real y no es necesario procuparse por el personal técnico. Adicionalmente elimina costos inciertos [Mcallister].\n",
        "\n",
        "Las empresas gastan una gran cantidad de dinero la adquisición de maquinaria, por ejemplo, se estima que las empresas constructoras pueden llegar a destinar hasta un 36% del presupuesto de la obra [Yeo]. Dado a que se le destina un gran capital a la adquisición también se le destina una cantidad sustancial en su mantenimiento.  Para los clientes de las empresas de renta es imperativo disminuir los gastos relacionados con la maquinaria para aumentar su margen de ganancia, por lo cual, para ser competitivos en el mercado, las empresas de renta deben ofrecer una couta mensual competitiva.\n",
        "\n",
        "Una tarea fundamental en las empresas de renta es la estimación de la cuota de mensual que se cobra a los arrendatarios. La cuota mensual abarca los costos base, los cuales corresponden a los gastos conocidos que seguramente tendrán lugar en el plazo establecido del contrato, por ejemplo, mantenimientos preventivos programados y seguros. Adicionalmente se aumentan los costos con relación a las posibles contingencias que se presenten, por ejemplo, mantenimientos correctivos. Estas contingencias se cuantifican por medio de cálculos aproximados y se agregan al presupuesto.  Debido a que los cálculos se basan en conocimiento empírico de la maquinaria, cabe la posibilidad que los desfases entre el valor estimado y los gastos reales, le generen pérdidas económicas u obstáculos para mejorar la competitividad en el mercado de la empresa.\n",
        "\n",
        "Para mediar con la incertidumbre que rodea a las contingencias, particularmente las referentes a los mantenimientos correctivos, se pueden aplicar estrategias de mantenimiento predictivo. Una alternativa para solucionar el problema es utilizar la información registrada en los sistemas de gestión del proceso de mantenimiento. Esta información describe las intervenciones de mantenimiento realizadas en la maquinaria. Sin embargo, estos datos son no estructurados, y no permiten dimensionar que paso realmente con el mantenimiento de la maquina.  \n",
        "\n",
        "En este trabajo se propone una estructuraci\\'on de los datos codificados en los registros del hist\\'orico del mantenimiento de la maquinaria. La estructuraci\\'on de estos datos, permitir\\'ia una extracci\\'on eficiente de informaci\\'on valiosa de las actividades de mantenimiento. Dado a que la falta de informacion relavante es uno de los principales problemas para la toma de decisiones en los procesos de mantenimiento \\cite{Parida}, se considera que este trabajo ser\\'a de gran inter\\'es para la empresa.\n",
        "\n",
        "A partir del modelo de estructuraci\\'on de los datos, ser\\'ia posible construir un modelo descriptivo de las hojas de vida de los equipos para identificar con mayor precisi\\'on, las fallas que sufren la maquinaria, la regularidad de \\'estas y las relaciones de las fallas at\\'ipicas con una operaci\\'on irregular de la maquinaria, una mala capacitaci\\'on de los operarios es de las causas m\\'as comunes de accidentes relacionados con maquinaria \\cite{Prasertrungruang}.\n",
        "\n",
        "Ser\\'ia posible soportar la toma de decisiones con respecto a la contrataci\\'on del servicio de maquinaria en contextos similares. Mejorar la tarifa de mantenimiento para ser m\\'as competitivos en el mercado o reducir posibles p\\'erdidas econ\\'omicas. Adicionalmente puede reflejar la necesidad de capacitaciones adicionales para los operarios.\n",
        "\n",
        "En trabajos futuros, partiendo de este trabajo y adicionando la informaci\\'on de telemetr\\'ia que la empresa recoge en tiempo real, ser\\'ia posible generar un modelo que prediga las futuras fallas de la maquinaria, con el objetivo de optimizar los servicios, soportando las decisiones para mejorar las estrategias de mantenimiento.\n",
        "\n",
        "\n",
        "La informaci\\'on de la din\\'amica de mantinimiento se encuentra codificada en las anotaciones de los t\\'ecnicos de mantenimiento, por lo cual, hay que procesarlo por medio de procesamiento de lenguaje natural (PLN). \n",
        "\n",
        "El objetivo de PLN es convertir el lenguaje natural a una forma que sea interpretable para un computador, es un m\\'etodo que le permite a los computadores entender el lenguaje humano \\cite{Szucs}. Es una herramienta versatil que ha sido aplicada a m\\'ultiples \\'areas del conocimiento, entre las cuales encontramos cuidado de la salud, publicidad, redes sociales, entre otros. Se ha implementado en: Traducciones autom\\'aticas, reconocimiento de enfermedades, reconocimiento de discurso, an\\'alisis de sentimientos, generaci\\'on de texto y c\\'odigo, reclutamiento de talento, entre otros.\n",
        "\n",
        "Una rama de PLN es la extracci\\'on de informaci\\'on, esta ha sido desarrollada para aislar informaci\\'on de fuentes de texto no estructurado, su mayoria de aplicaci\\'ones son para idioma ingl\\'es. Los avances en el procesamiento de lenguaje taquigr\\'afico se encuentra principalmente en el analisis de registros m\\'edicos \\cite{Bokinsky}.\n",
        "\n",
        "Debido a que hay deferencias estructurales entre el lenguaje natural usado en los registros de mantenimiento y el lenguaje usual para el cual se han desarrollado la mayoria de herramientas de las librerias usuales para PLN, se presentan las siguientes dificultades al intentar de procesar los registros con las herramientas usuales \\cite{Bokinsky}:\n",
        "%en ingles\n",
        "\n",
        "\\begin{enumerate}\n",
        "    \\item Las palabras importantes suelen estar abreviadas o mal escritas.\n",
        "    \\item Suelen concatenar palabras.\n",
        "    \\item Contienen vocabulario especializado propio del \\'area de mantenimiento.\n",
        "    \\item Abreviaci\\'on de palabras y uso de acr\\'onimos inconsistentes.\n",
        "\\end{enumerate}\n",
        "\n",
        "En la literatura encontramos diferentes acercamientos para extraer informaci\\'on de los registros de mantenimiento por medio de PLN: en \\cite{Stenstrom} se explor\\'o sus utilidades b\\'asicas como herramientas para la evaluaci\\'on del desempeño de los activos, en Hungr\\'ia \\cite{Szucs} analizaron los registros de mantenimiento usando PLN y el algoritmo de \\textit{Density-Based Spatial Clustering of Applications with Noise} para el an\\'alisis de recurrencia de fallas, adicionalmente usan un modelo de \\textit{named entity recongnition} para reconocer la fuente de las falla, usando el registro de mantenimiento de lavadoras, torneadoras, rectificadoras y fresadoras.\n",
        "\n",
        "En el reino unido \\cite{Pelham} comparan las herramientas de clasificaci\\'on: clasificaci\\'on de expertos, emparejamiento de frase y \\textit{Naive bayes phrase matching} para identificar las revisiones de mantenimiento en las que no se encuentran fallas con el fin de cuantificar esta medida, puesto que esta implica gastos inecesarios de personal y de recursos. \n",
        "\n",
        "En estados unidos \\cite{Akhbardeh} desarrollaron una plataforma cooperativa \\textit{open-source MaintNet} para data de manteniento predictivo. Herramientas (datasets, Banco de t\\'erminos y listas de abreviaciones) con lenguaje t\\'ecnico (propio de esta \\'area), est\\'andares para medir el funcionamiento de etiquetado gramatical (prove\\'ido por expertos) y \\textit{clustering/classification}, adem\\'as comparan el funcionamiento de las herramientas de preprocesamiento de \\textit{MaintNet} con las herramientas usales de NLP en python, adicionalmente evaluan los metodos de clustering y de clasificaci\\'on. En \\cite{Bokinsky} utilizan herramientas de NLP adecuadas para tratar el lenguaje de mantenimiento para correlacionar textos, el objetivo es emparejar las acciones correctivas del operario y las que se encuentran en los manuales, con el fin de deternimar en qué medida el trabajo que realmente se está realizando en una aeronave se alinea con lo que se pide en la documentación de mantenimiento.\n",
        "\n"
      ]
    },
    {
      "cell_type": "code",
      "metadata": {
        "id": "wpbd6roy2Uc4"
      },
      "source": [
        ""
      ],
      "execution_count": null,
      "outputs": []
    }
  ]
}