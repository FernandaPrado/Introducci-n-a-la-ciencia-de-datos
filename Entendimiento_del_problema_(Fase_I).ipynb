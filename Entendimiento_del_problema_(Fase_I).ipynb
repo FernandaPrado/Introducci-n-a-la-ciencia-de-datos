{
  "nbformat": 4,
  "nbformat_minor": 0,
  "metadata": {
    "colab": {
      "name": "Entendimiento del problema (Fase I).ipynb",
      "provenance": [],
      "collapsed_sections": [],
      "authorship_tag": "ABX9TyPUYDsyIPa8Y/vTYmo9OPcr",
      "include_colab_link": true
    },
    "kernelspec": {
      "name": "python3",
      "display_name": "Python 3"
    },
    "language_info": {
      "name": "python"
    }
  },
  "cells": [
    {
      "cell_type": "markdown",
      "metadata": {
        "id": "view-in-github",
        "colab_type": "text"
      },
      "source": [
        "<a href=\"https://colab.research.google.com/github/FernandaPrado/Introducci-n-a-la-ciencia-de-datos/blob/main/Entendimiento_del_problema_(Fase_I).ipynb\" target=\"_parent\"><img src=\"https://colab.research.google.com/assets/colab-badge.svg\" alt=\"Open In Colab\"/></a>"
      ]
    },
    {
      "cell_type": "markdown",
      "metadata": {
        "id": "IeaZB-pt2JhZ"
      },
      "source": [
        "# Entendimiento del problema\n",
        "\n",
        "La primera fase de esta metodología está dirigida a converger los objetivos del proyecto de Data mining y las necesidades del negocio. Esto con el fin de que el proyecto represente un valor agregado a la empresa.\n"
      ]
    },
    {
      "cell_type": "markdown",
      "metadata": {
        "id": "UtnCa8s62Pey"
      },
      "source": [
        "El área de mantenimiento es la encargada de garantizar el buen funcionamiento y prolongar la vida útil de los bienes, según la asociación española de normalización. El mantenimiento engloba \"las acciones técnicas, administrativas y de gestión durante el ciclo de vida de un elemento, destinado a conservarlo o a devolverlo a un estado en el cual pueda desarrollar la función requerida\" [1]. Es un área muy importante, las acciones de mantenimiento no deberian ser vistas como un costo, sino como una inversión que puede asociarse al crecimiento futuro de los ingresos de la empresa [4].  \n",
        "\n",
        "Usualmente, el área de matenimiento cuenta con un director, encargado de administrar y agendar las actividades de mantenimiento, y un grupo de ténicos responsables de atender al cliente y hacer los mantenientos. El director del área es el encargado de establecer la estrategia para  la gestión de mantenimiento. Las estrategias de gestión de mantenimiento se dividen entre tres tipos, estrategias correctivas, preventivas y predictivas.\n",
        "\n",
        "Las estrategias de mantenimiento correctivo son aquellas en las que las acciones se llevan a cabo después de que se presenta la falla. El problema de estas estrategias es que la maquinaria se detiene y los tiempos muertos son largos y costosos. Incluyen el tiempo de agendamiento, el tiempo que se demore el técnico en llegar y reparar la máquina, y en caso de que se necesiten repuestos, es necesario adicionar el tiempo de importación o de envío de las piezas. Por otro lado, debido a que se espera hasta que las fallas sean visibles, en algunos casos, esto implica que éstas sean de mayor magnitud siendo la aglomeración de fallas previas tratables.  \n",
        "\n",
        "Las estrategias preventivas son las que se llevan a cabo en periodos de tiempo predeterminados, o después de cierta cantidad de horas de uso de la maquinaria. Las desventajas de estas medidas son las actividades innecesarias que implican gastos evitables.\n",
        " \n",
        "Las estrategias predictivas son en las que se agendan las actividades de mantenimiento a partir de la predicción de las fallas de los equipos, aunque para implementarlas es necesario contar con una gran cantidad de datos y con personal capacitado para el análisis de datos, permite desarrollar herramientas para la optimización de inventarios, de agendamientos y disminuir tiempos muertos, actividades de mantenimiento, costos asociados, alargar la vida útil y mejorar la calidad del servicio.\n",
        "\n",
        "Debido a los desarrollos en la adquisición de datos, las estrategias de gestión de mantenimiento predictivo estan tomando fuerza en el mercado. Para desarrollar este tipo de estrategias es importante considerar la información relevante disponible sobre el mantenimiento. Una fuente de datos relevante y poco usada son los registros de mantenimiento.\n",
        "\n",
        "\n",
        "\n",
        "\n",
        "\n",
        "\n",
        "\n"
      ]
    },
    {
      "cell_type": "markdown",
      "metadata": {
        "id": "UHXt0Pk9UlNQ"
      },
      "source": [
        "Las de estrategias de mantenimiento predictivo pueden aplicarse en diferentes tipos de empresas, en particular pueden llegar a tener un gran impacto en empresas de renta de maquinaria.\n",
        "\n",
        "En una empresa que se dedica a la venta y renta de maquinaria, el funcionamiento óptimo del área de mantenimiento afecta directamente y en gran medida sus ganancias. La renta de maquinaria amarilla es una línea de negocio en la que se ofrece el servicio de diferentes máquinas como: montacargas, plataformas para trabajo en altura, telehandlers, entre otros, sin necesidad de compra. Se manejan contratos de 3 a 5 años, en los que se fijan pagos mensuales que incluyen mantenimientos, seguros, llantas y repuestos.   \n",
        "\n",
        "La renta de maquinaria es una práctica altamente usada en la industria, esta alternativa ofrece beneficios económicos, financieros, operativos y administrativos. No afecta el nivel de endeudamiento, ni se registra la maquinaria como activo, depreciación o pasivo, brinda un alivio fiscal, administrativo y contable.  Facilita la renovación tecnólogica, ofrece una gran variedad de opciones de maquinaria con cero horas de trabajo, a la cual se le hace seguimiendo en tiempo real y no es necesario procuparse por el personal técnico. Adicionalmente elimina costos inciertos [2].\n",
        "\n",
        "Este servicio se le presta a diferentes tipos de empresas. Las empresas gastan una gran cantidad de dinero en la adquisición de maquinaria, por ejemplo, se estima que las empresas constructoras pueden llegar a destinar hasta un 36% del presupuesto de la obra [3]. En razón a que se le destina un gran capital a la adquisición también se le destina una cantidad sustancial en su mantenimiento. Para los clientes de las empresas de renta es imperativo disminuir los gastos relacionados con la maquinaria para aumentar su margen de ganancia, por lo cual, para ser competitivos en el mercado, las empresas de renta deben ofrecer una couta mensual competitiva.\n",
        "\n",
        "Por lo anterior, una tarea fundamental en las empresas de renta es la estimación de la cuota mensual que se cobra a los arrendatarios. La cuota mensual abarca los costos base, los cuales corresponden a los gastos conocidos que seguramente tendrán lugar en el plazo establecido del contrato, por ejemplo, mantenimientos preventivos programados y seguros. Adicionalmente se aumentan los costos con relación a las posibles contingencias que se presenten, por ejemplo, mantenimientos correctivos. Estas contingencias se cuantifican por medio de cálculos aproximados y se agregan al presupuesto.  Debido a que los cálculos se basan en conocimiento empírico de la maquinaria, cabe la posibilidad que los desfases entre el valor estimado y los gastos reales, le generen pérdidas económicas u obstáculos para mejorar la competitividad en el mercado de la empresa. "
      ]
    },
    {
      "cell_type": "markdown",
      "metadata": {
        "id": "i0DhgOZWkZW_"
      },
      "source": [
        "Para mediar con la incertidumbre que rodea a las contingencias, particularmente las referentes a los mantenimientos correctivos, se pueden aplicar estrategias de mantenimiento predictivo por lo tanto el objetivo del negocio es mejorar la manera en que se calcula la cuota mensual.\n",
        "\n",
        "Una alternativa para alcanzar este objetivo es utilizar la información registrada en los sistemas de gestión de mantenimiento, esta es una fuente de datos relevante y poco usada.\n",
        "\n",
        "En las empresas manejan software de mantenimiento, en los que se guardan los registros de las actividades, las partes reemplazadas y las remodelaciones de las máquinas. Estos reportes se conservan con el objetivo de conocer los tiempos de parada, analizar los tiempos, intervalos y costos de mantenimiento para mejorar el proceso y las intervenciones relevantes [6]. Originalmente los registros eran llenados manualmente por los técnicos, pero ahora se almacenan de manera digital en las hojas de vida de la maquinaria. Estos registros incluyen tanto datos estructurados, como datos no estructurados, donde el técnico registra la descripción de las actividades de mantenimiento. Dado que esta información es subjetiva al técnico, estos textos varían sustancialmente, puede contener la descripción de la falla, del proceso de reparación, entre otros. En la literatura, se ha demostrado que los campos en los que los técnicos describen los procesos de mantenimiento contiene información relevante, aunque sea difícil su procesamiento [5].\n",
        "\n",
        "Dado a que, como se mencionó anteniormente, registros cuenta con un espacio para ingresar texto libre, sería necesario trabajar con datos que no cuentan con una estructura predeterminada (no estructurados). Por lo cual, para extraer la información necesaria implementar un estrategia de mantenimiento predictiva, lo primero que se debería considerar es la estructuración los datos. Es por ésta razón que el objetivo de este trabajo de minería de datos es crear un modelo de clasificación, para la estructuración de los datos codificados en los registros del histórico del mantenimiento de la maquinaria. La estructuración de estos datos, permitiría una extracción eficiente de información valiosa de las actividades de mantenimiento. Adicionalmente, debido a que la falta de información relevante es uno de los principales problemas para la toma de decisiones en los procesos de mantenimiento [Parida], se considera que este trabajo será de gran interés para la empresa.\n",
        "\n",
        "Considerado lo anterior, para extraer la información de la dinámica de mantenimiento se encuentra codificada en las anotaciones de los técnicos de mantenimiento, hay que procesarlo por medio de herramientas de procesamiento de lenguaje natural (PLN). \n",
        "\n",
        "El objetivo de PLN es convertir el lenguaje natural a una forma que sea interpretable para un computador, es un método que le permite a los computadores entender el lenguaje humano [6]. Es una herramienta versatil que ha sido aplicada a múltiples áreas del conocimiento, entre las cuales encontramos cuidado de la salud, publicidad, redes sociales, entre otros. Se ha implementado en: Traducciones automáticas, reconocimiento de enfermedades, reconocimiento de discurso, análisis de sentimientos, generación de texto y código, reclutamiento de talento, entre otros.\n",
        "\n",
        "Una rama de PLN es la extracción de información, esta ha sido desarrollada para aislar información de fuentes de texto no estructurado, la mayoría de sus aplicaciones son para idioma inglés. Los avances en el procesamiento de lenguaje taquigráfico se encuentra principalmente en el análisis de registros médicos [11].\n",
        "\n",
        "Debido a que hay diferencias estructurales entre el lenguaje natural usado en los registros de mantenimiento y el lenguaje usual para el cual se han desarrollado la mayoría de herramientas de las librerías usuales para PLN, se presentan las siguientes dificultades al intentar procesar los registros de mantenimiento con las herramientas usuales [11]:\n",
        "\n",
        "1. Las palabras importantes suelen estar abreviadas o mal escritas.\n",
        "2. Suelen concatenar palabras.\n",
        "3. Contienen vocabulario especializado propio del área de mantenimiento.\n",
        "4. Abreviación de palabras y uso de acrónimos constantes e inconsistentes.\n",
        "\n"
      ]
    },
    {
      "cell_type": "markdown",
      "metadata": {
        "id": "3kgJ7UXsGc05"
      },
      "source": [
        "En la literatura encontramos diferentes acercamientos para extraer información de los registros de mantenimiento por medio de PLN: en [5] se exploró utilidades básicas de PLN como herramientas para la evaluación del desempeño de los activos, en Hungría [6] analizaron los registros de mantenimiento usando PLN y el algoritmo de *Density-Based Spatial Clustering of Applications with Noise* para el análisis de recurrencia de fallas, adicionalmente usan un modelo de *named entity recongnition* para reconocer la fuente de las falla, usando el registro de mantenimiento de lavadoras, torneadoras, rectificadoras y fresadoras.\n",
        "\n",
        "En el reino unido [12] comparan las herramientas de clasificación: clasificación de expertos, emparejamiento de frases y *Naive bayes phrase matching* para identificar las revisiones de mantenimiento en las que no se encontraron fallas. Con el fin de cuantificar esta medida, puesto que esta implica gastos innecesarios de personal y de recursos. \n",
        "\n",
        "En estados unidos [8][9] desarrollaron una plataforma cooperativa *open-source MaintNet* para data de manteniendo predictivo. Herramientas (datasets, Banco de términos y listas de abreviaciones) con lenguaje técnico (propio de esta área), estándares para medir el funcionamiento de etiquetado gramatical (proveído por expertos) y *clustering/classification*. Además comparan el funcionamiento de las herramientas de preprocesamiento de *MaintNet* con las herramientas usuales de NLP en python y evalúan los métodos de clustering y de clasificación.\n",
        "\n",
        "En [11] utilizan herramientas de NLP adecuadas para tratar el lenguaje de mantenimiento para correlacionar textos, el objetivo es emparejar las acciones correctivas del operario y las que se encuentran en los manuales, con el fin de determinar en qué medida el trabajo que realmente se está realizando en una aeronave se alinea con lo que se pide en la documentación de mantenimiento."
      ]
    },
    {
      "cell_type": "markdown",
      "metadata": {
        "id": "OokzmZjYGdGC"
      },
      "source": [
        "A partir del modelo de estructuración de los datos, sería posible construir un modelo descriptivo de las hojas de vida de los equipos para identificar con mayor precisión, las fallas que sufren la maquinaria, la regularidad de éstas y las relaciones de las fallas atípicas con una operación irregular de la maquinaria, para asi calcular con mayor precisión la cuota mensual. \n",
        "\n",
        "Adicionalmente sería posible soportar la toma de decisiones con respecto a la contratación del servicio de maquinaria en contextos similares y prestar un servicio personalizado.\n",
        "\n",
        "En trabajos futuros, partiendo de este trabajo y adicionando la información de telemetría que la empresa recoge en tiempo real, sería posible generar un modelo que prediga las futuras fallas de la maquinaria, con el objetivo de optimizar los servicios, soportando las decisiones para mejorar las estrategias de mantenimiento."
      ]
    },
    {
      "cell_type": "markdown",
      "metadata": {
        "id": "ijj1SATRpX7w"
      },
      "source": [
        "Esperamos contar con la colaboración  del director de mantenimiento de la empresa, adicionalmente esperamos el apoyo de un experto para la anotación de fallas de los registros para poder elaborar el modelo. \n",
        "\n",
        "En primera instancia se utilizarán las hojas de vida de la maquinaría, en formato pdf, extraidas del sistema de administracion de mantenimiento moderno (SAMM, https://idaesoluciones.com/). Se utilizá, software libre (python) para el procesamiento. \n",
        "\n",
        "Es importante resaltar que no se planea hacer la ùltima fase de la metodología, despliegue. Además es posible resultado es que el proceso actual que utiliza la empresa para estimar las fallas de resultado no necesite cambios sustanciales.\n"
      ]
    },
    {
      "cell_type": "markdown",
      "metadata": {
        "id": "TiAoZfbbMaVc"
      },
      "source": [
        "### Criterios de exito y riesgos\n",
        "\n",
        "Para el negocio el criterio de exito sería soportar decisiones para modificar la cuota mensual para lo contratos. Con respecto al proyecto de minería de datos, se espera mejorar el nivel de precisión con el que se evaluan la cantidad de fallas que se presentan, se espera obtener una medida superior a 70%.\n",
        "\n",
        "Por el momento se estima que el mayor riesgo de este proyecto es con respecto a la calidad de datos y a que el etiquetado de se demore más de lo esperado. Por lo cual, el plan de contingencia es solicitar información adicional para el primer caso y para el segundo caso aumentar el personal para el etiquetado. "
      ]
    },
    {
      "cell_type": "markdown",
      "metadata": {
        "id": "eVXVsHmkTpQa"
      },
      "source": [
        "## Plan de proyecto"
      ]
    },
    {
      "cell_type": "code",
      "metadata": {
        "id": "-sS4G0bvUWYv"
      },
      "source": [
        "import pandas as pd"
      ],
      "execution_count": 2,
      "outputs": []
    },
    {
      "cell_type": "code",
      "metadata": {
        "colab": {
          "base_uri": "https://localhost:8080/",
          "height": 204
        },
        "id": "MMj4johqUagw",
        "outputId": "a0e4e7ef-1989-47a7-c786-9976902b73bb"
      },
      "source": [
        "pd.DataFrame({'Fase':['Entendimiento del negocio','Entendimiento de los datos','Preparación de los datos',\n",
        "                      'Modelado','Evaluación'],'Tiempo':['2 Semanas','2 Semanas','5 Semanas',\n",
        "                      '3 Semanas','1 Semana'],'Recursos':['Analistas','Analistas','Experto y analista','Analista','Experto y analista'], \n",
        "                      'Riesgos':['','Problemas con los datos, problemas técnicos y de planeación','Problemas con los datos, problemas técnicos y de planeación','Problemas técnicos, Problema con la elección del modelo', 'Inconsistencias en el análisis o falta de relevancia']})\n",
        "\n",
        "\n"
      ],
      "execution_count": 3,
      "outputs": [
        {
          "output_type": "execute_result",
          "data": {
            "text/html": [
              "<div>\n",
              "<style scoped>\n",
              "    .dataframe tbody tr th:only-of-type {\n",
              "        vertical-align: middle;\n",
              "    }\n",
              "\n",
              "    .dataframe tbody tr th {\n",
              "        vertical-align: top;\n",
              "    }\n",
              "\n",
              "    .dataframe thead th {\n",
              "        text-align: right;\n",
              "    }\n",
              "</style>\n",
              "<table border=\"1\" class=\"dataframe\">\n",
              "  <thead>\n",
              "    <tr style=\"text-align: right;\">\n",
              "      <th></th>\n",
              "      <th>Fase</th>\n",
              "      <th>Tiempo</th>\n",
              "      <th>Recursos</th>\n",
              "      <th>Riesgos</th>\n",
              "    </tr>\n",
              "  </thead>\n",
              "  <tbody>\n",
              "    <tr>\n",
              "      <th>0</th>\n",
              "      <td>Entendimiento del negocio</td>\n",
              "      <td>2 Semanas</td>\n",
              "      <td>Analistas</td>\n",
              "      <td></td>\n",
              "    </tr>\n",
              "    <tr>\n",
              "      <th>1</th>\n",
              "      <td>Entendimiento de los datos</td>\n",
              "      <td>2 Semanas</td>\n",
              "      <td>Analistas</td>\n",
              "      <td>Problemas con los datos, problemas técnicos y ...</td>\n",
              "    </tr>\n",
              "    <tr>\n",
              "      <th>2</th>\n",
              "      <td>Preparación de los datos</td>\n",
              "      <td>5 Semanas</td>\n",
              "      <td>Experto y analista</td>\n",
              "      <td>Problemas con los datos, problemas técnicos y ...</td>\n",
              "    </tr>\n",
              "    <tr>\n",
              "      <th>3</th>\n",
              "      <td>Modelado</td>\n",
              "      <td>3 Semanas</td>\n",
              "      <td>Analista</td>\n",
              "      <td>Problemas técnicos, Problema con la elección d...</td>\n",
              "    </tr>\n",
              "    <tr>\n",
              "      <th>4</th>\n",
              "      <td>Evaluación</td>\n",
              "      <td>1 Semana</td>\n",
              "      <td>Experto y analista</td>\n",
              "      <td>Inconsistencias en el análisis o falta de rele...</td>\n",
              "    </tr>\n",
              "  </tbody>\n",
              "</table>\n",
              "</div>"
            ],
            "text/plain": [
              "                         Fase  ...                                            Riesgos\n",
              "0   Entendimiento del negocio  ...                                                   \n",
              "1  Entendimiento de los datos  ...  Problemas con los datos, problemas técnicos y ...\n",
              "2    Preparación de los datos  ...  Problemas con los datos, problemas técnicos y ...\n",
              "3                    Modelado  ...  Problemas técnicos, Problema con la elección d...\n",
              "4                  Evaluación  ...  Inconsistencias en el análisis o falta de rele...\n",
              "\n",
              "[5 rows x 4 columns]"
            ]
          },
          "metadata": {
            "tags": []
          },
          "execution_count": 3
        }
      ]
    },
    {
      "cell_type": "code",
      "metadata": {
        "id": "BPwo29GbxG1-",
        "outputId": "85038a0a-9738-4c39-f748-190f382b6f6b",
        "colab": {
          "base_uri": "https://localhost:8080/",
          "height": 142
        }
      },
      "source": [
        "pd.DataFrame({'Costos':[['Experto-anotaciones-1.000.000'],['Analista-2.500.000'],['Servicios operativos-300.000']],\n",
        "              'Beneficio':[['Alcanzar objetivo-reducción 1.5% de couta mensual'],['Base de datos anotada-2.000.000'],['Beneficios de entender los datos-10% gastos mantenimiento']]})\n",
        "\n"
      ],
      "execution_count": 4,
      "outputs": [
        {
          "output_type": "execute_result",
          "data": {
            "text/html": [
              "<div>\n",
              "<style scoped>\n",
              "    .dataframe tbody tr th:only-of-type {\n",
              "        vertical-align: middle;\n",
              "    }\n",
              "\n",
              "    .dataframe tbody tr th {\n",
              "        vertical-align: top;\n",
              "    }\n",
              "\n",
              "    .dataframe thead th {\n",
              "        text-align: right;\n",
              "    }\n",
              "</style>\n",
              "<table border=\"1\" class=\"dataframe\">\n",
              "  <thead>\n",
              "    <tr style=\"text-align: right;\">\n",
              "      <th></th>\n",
              "      <th>Costos</th>\n",
              "      <th>Beneficio</th>\n",
              "    </tr>\n",
              "  </thead>\n",
              "  <tbody>\n",
              "    <tr>\n",
              "      <th>0</th>\n",
              "      <td>[Experto-anotaciones-1.000.000]</td>\n",
              "      <td>[Alcanzar objetivo-reducción 1.5% de couta men...</td>\n",
              "    </tr>\n",
              "    <tr>\n",
              "      <th>1</th>\n",
              "      <td>[Analista-2.500.000]</td>\n",
              "      <td>[Base de datos anotada-2.000.000]</td>\n",
              "    </tr>\n",
              "    <tr>\n",
              "      <th>2</th>\n",
              "      <td>[Servicios operativos-300.000]</td>\n",
              "      <td>[Beneficios de entender los datos-10% gastos m...</td>\n",
              "    </tr>\n",
              "  </tbody>\n",
              "</table>\n",
              "</div>"
            ],
            "text/plain": [
              "                            Costos                                          Beneficio\n",
              "0  [Experto-anotaciones-1.000.000]  [Alcanzar objetivo-reducción 1.5% de couta men...\n",
              "1             [Analista-2.500.000]                  [Base de datos anotada-2.000.000]\n",
              "2   [Servicios operativos-300.000]  [Beneficios de entender los datos-10% gastos m..."
            ]
          },
          "metadata": {
            "tags": []
          },
          "execution_count": 4
        }
      ]
    },
    {
      "cell_type": "markdown",
      "metadata": {
        "id": "revMrEVGCRwY"
      },
      "source": [
        "## Bibliografía\n",
        "[1] Unico organismo de normalización en españa, ´ Mantenimiento. Terminología del mantenimiento , UNE-EN 13306, 2018. https://www.une.org\n",
        "\n",
        "[2] Mcallister (renting, alquiler y venta de maquinaria), Mcallister,\n",
        "https://mcallister.com.co/ (22 Marzo 2021).\n",
        "\n",
        "[3] Yeo, K. T., & Ning, J. H., Managing uncertainty in major equipment procurement in engineering projects, European journal of operational research, 171(1), 123-134. 2006.\n",
        "\n",
        "[4] Thanapun Prasertrungruang B.H.W. Hadikusumo, Heavy equipment management practices and problems in Thai highway contractors, Engineering, Construction and Architectural Management, Vol. 14 Iss 3 pp. 228 - 241. 2007.\n",
        "\n",
        "[5] Stenström, C., Al-Jumaili, M., & Parida, A, Natural language processing of maintenance records data, International Journal of COMADEM, 18(2), 33-37. 2015.\n",
        "\n",
        "[6] Szücs, Balázs & Ballagi, Aron, ´ Artificial Intelligence in Maintenance: The Industrial Application of Natural Language Processing, Conference: 11th Engineering Symposium at Bánki (ESB 2019)At: Obuda University, Donát Bánki Faculty of ´Mechanical and Safety Engineering, Budapest, Hungary 2020.\n",
        "\n",
        "[7] López D. , Your Guide to Natural Language Processing (NLP),\n",
        "https://towardsdatascience.com/your-guide-to-natural-language\n",
        "-processing-nlp-48ea2511f6e1 (15 Enero 2019).\n",
        "\n",
        "[8] Akhbardeh, F., Desell, T., & Zampieri, M., NLP Tools for Predictive Maintenance Records in MaintNet, In Proceedings of the 1st Conference of the Asia-Pacific Chapter of the Association for Computational Linguistics and the 10th International Joint Conference on Natural Language Processing: System Demonstrations (pp. 26-32). 2020.\n",
        "\n",
        "[9] Akhbardeh, Farhad and Desell, Travis and Zampieri, Marcos, MaintNet: A Collaborative Open-Source Library for Predictive Maintenance Language Resources, arXiv preprint arXiv:2005.12443. 2020. MaintNet: A Collaborative Open-Source Library for Predictive Maintenance Language Resources (Akhbardeh2020)\n",
        "\n",
        "[10] Parida, A, Maintenance performance measurement system: Application of ICT and e-Maintenance Concepts, International journal of COMADEM, 9(4), 30. 2006.\n",
        "\n",
        "[11] Bokinsky, Huston and McKenzie, Amber and Bayoumi, Abdel and McCaslin, Rhea and Patterson, Andrew and Matthews, Manton and Schmidley, Joseph and Eisner& Major General Lester, Application of natural language processing techniques to marine V-22 maintenance data for populating a CBM-oriented database, AHS Airworthiness, CBM, and HUMS Specialists’ Meeting, Huntsville, AL. 2013.\n",
        "\n",
        "[12] Pelham, Jonathan G and Hockley, Chris, Analysis of Short form Maintenance Records for NFF Using NLP, Phrase Matching, and Bayesian Learning, Procedia CIRP, 59, 257-262. 2017."
      ]
    },
    {
      "cell_type": "code",
      "metadata": {
        "id": "mE91UxxRUVwM"
      },
      "source": [
        ""
      ],
      "execution_count": null,
      "outputs": []
    }
  ]
}